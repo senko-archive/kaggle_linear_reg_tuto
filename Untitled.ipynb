{
 "cells": [
  {
   "cell_type": "code",
   "execution_count": 1,
   "metadata": {},
   "outputs": [],
   "source": [
    "import pandas as pd\n",
    "import numpy as np\n",
    "import matplotlib.pyplot as plt\n",
    "import seaborn as sns"
   ]
  },
  {
   "cell_type": "code",
   "execution_count": 2,
   "metadata": {},
   "outputs": [],
   "source": [
    "plt.rcParams['figure.figsize'] = [8,5]\n",
    "plt.rcParams['font.size'] =14"
   ]
  },
  {
   "cell_type": "code",
   "execution_count": 3,
   "metadata": {},
   "outputs": [],
   "source": [
    "df = pd.read_csv('insurance_missing.csv')"
   ]
  },
  {
   "cell_type": "code",
   "execution_count": 4,
   "metadata": {},
   "outputs": [
    {
     "data": {
      "text/html": [
       "<div>\n",
       "<style scoped>\n",
       "    .dataframe tbody tr th:only-of-type {\n",
       "        vertical-align: middle;\n",
       "    }\n",
       "\n",
       "    .dataframe tbody tr th {\n",
       "        vertical-align: top;\n",
       "    }\n",
       "\n",
       "    .dataframe thead th {\n",
       "        text-align: right;\n",
       "    }\n",
       "</style>\n",
       "<table border=\"1\" class=\"dataframe\">\n",
       "  <thead>\n",
       "    <tr style=\"text-align: right;\">\n",
       "      <th></th>\n",
       "      <th>age</th>\n",
       "      <th>sex</th>\n",
       "      <th>bmi</th>\n",
       "      <th>children</th>\n",
       "      <th>smoker</th>\n",
       "      <th>region</th>\n",
       "      <th>charges</th>\n",
       "    </tr>\n",
       "  </thead>\n",
       "  <tbody>\n",
       "    <tr>\n",
       "      <th>0</th>\n",
       "      <td>False</td>\n",
       "      <td>True</td>\n",
       "      <td>False</td>\n",
       "      <td>False</td>\n",
       "      <td>False</td>\n",
       "      <td>True</td>\n",
       "      <td>False</td>\n",
       "    </tr>\n",
       "    <tr>\n",
       "      <th>1</th>\n",
       "      <td>True</td>\n",
       "      <td>False</td>\n",
       "      <td>False</td>\n",
       "      <td>False</td>\n",
       "      <td>False</td>\n",
       "      <td>False</td>\n",
       "      <td>False</td>\n",
       "    </tr>\n",
       "    <tr>\n",
       "      <th>2</th>\n",
       "      <td>True</td>\n",
       "      <td>False</td>\n",
       "      <td>False</td>\n",
       "      <td>False</td>\n",
       "      <td>False</td>\n",
       "      <td>False</td>\n",
       "      <td>False</td>\n",
       "    </tr>\n",
       "    <tr>\n",
       "      <th>3</th>\n",
       "      <td>True</td>\n",
       "      <td>False</td>\n",
       "      <td>False</td>\n",
       "      <td>False</td>\n",
       "      <td>False</td>\n",
       "      <td>False</td>\n",
       "      <td>False</td>\n",
       "    </tr>\n",
       "    <tr>\n",
       "      <th>4</th>\n",
       "      <td>True</td>\n",
       "      <td>False</td>\n",
       "      <td>False</td>\n",
       "      <td>False</td>\n",
       "      <td>False</td>\n",
       "      <td>False</td>\n",
       "      <td>False</td>\n",
       "    </tr>\n",
       "    <tr>\n",
       "      <th>...</th>\n",
       "      <td>...</td>\n",
       "      <td>...</td>\n",
       "      <td>...</td>\n",
       "      <td>...</td>\n",
       "      <td>...</td>\n",
       "      <td>...</td>\n",
       "      <td>...</td>\n",
       "    </tr>\n",
       "    <tr>\n",
       "      <th>1333</th>\n",
       "      <td>False</td>\n",
       "      <td>False</td>\n",
       "      <td>False</td>\n",
       "      <td>False</td>\n",
       "      <td>False</td>\n",
       "      <td>False</td>\n",
       "      <td>False</td>\n",
       "    </tr>\n",
       "    <tr>\n",
       "      <th>1334</th>\n",
       "      <td>False</td>\n",
       "      <td>False</td>\n",
       "      <td>False</td>\n",
       "      <td>False</td>\n",
       "      <td>False</td>\n",
       "      <td>False</td>\n",
       "      <td>False</td>\n",
       "    </tr>\n",
       "    <tr>\n",
       "      <th>1335</th>\n",
       "      <td>False</td>\n",
       "      <td>False</td>\n",
       "      <td>False</td>\n",
       "      <td>False</td>\n",
       "      <td>False</td>\n",
       "      <td>False</td>\n",
       "      <td>False</td>\n",
       "    </tr>\n",
       "    <tr>\n",
       "      <th>1336</th>\n",
       "      <td>False</td>\n",
       "      <td>False</td>\n",
       "      <td>False</td>\n",
       "      <td>False</td>\n",
       "      <td>False</td>\n",
       "      <td>False</td>\n",
       "      <td>False</td>\n",
       "    </tr>\n",
       "    <tr>\n",
       "      <th>1337</th>\n",
       "      <td>False</td>\n",
       "      <td>False</td>\n",
       "      <td>False</td>\n",
       "      <td>False</td>\n",
       "      <td>False</td>\n",
       "      <td>False</td>\n",
       "      <td>False</td>\n",
       "    </tr>\n",
       "  </tbody>\n",
       "</table>\n",
       "<p>1338 rows × 7 columns</p>\n",
       "</div>"
      ],
      "text/plain": [
       "        age    sex    bmi  children  smoker  region  charges\n",
       "0     False   True  False     False   False    True    False\n",
       "1      True  False  False     False   False   False    False\n",
       "2      True  False  False     False   False   False    False\n",
       "3      True  False  False     False   False   False    False\n",
       "4      True  False  False     False   False   False    False\n",
       "...     ...    ...    ...       ...     ...     ...      ...\n",
       "1333  False  False  False     False   False   False    False\n",
       "1334  False  False  False     False   False   False    False\n",
       "1335  False  False  False     False   False   False    False\n",
       "1336  False  False  False     False   False   False    False\n",
       "1337  False  False  False     False   False   False    False\n",
       "\n",
       "[1338 rows x 7 columns]"
      ]
     },
     "execution_count": 4,
     "metadata": {},
     "output_type": "execute_result"
    }
   ],
   "source": [
    "df.isnull()"
   ]
  },
  {
   "cell_type": "code",
   "execution_count": 5,
   "metadata": {},
   "outputs": [
    {
     "data": {
      "text/plain": [
       "Text(0.5, 1, 'Missing value in the dataset')"
      ]
     },
     "execution_count": 5,
     "metadata": {},
     "output_type": "execute_result"
    },
    {
     "data": {
      "image/png": "[encoded data removed]",
      "text/plain": [
       "<Figure size 864x288 with 1 Axes>"
      ]
     },
     "metadata": {
      "needs_background": "light"
     },
     "output_type": "display_data"
    }
   ],
   "source": [
    "plt.figure(figsize=(12,4))\n",
    "sns.heatmap(df.isnull(),cbar=False,cmap='viridis',yticklabels=False)\n",
    "plt.title('Missing value in the dataset')"
   ]
  },
  {
   "cell_type": "code",
   "execution_count": 14,
   "metadata": {},
   "outputs": [],
   "source": [
    "vector = np.array(\n",
    "    np.random.randint(low=1, high=100, size=4000)\n",
    ")"
   ]
  },
  {
   "cell_type": "code",
   "execution_count": 15,
   "metadata": {},
   "outputs": [
    {
     "data": {
      "text/plain": [
       "array([37, 59, 38, ..., 53, 77, 68])"
      ]
     },
     "execution_count": 15,
     "metadata": {},
     "output_type": "execute_result"
    }
   ],
   "source": [
    "vector"
   ]
  },
  {
   "cell_type": "code",
   "execution_count": 17,
   "metadata": {},
   "outputs": [
    {
     "data": {
      "text/plain": [
       "<matplotlib.axes._subplots.AxesSubplot at 0x7fca37c56400>"
      ]
     },
     "execution_count": 17,
     "metadata": {},
     "output_type": "execute_result"
    },
    {
     "data": {
      "image/png": "[encoded data removed]",
      "text/plain": [
       "<Figure size 864x288 with 1 Axes>"
      ]
     },
     "metadata": {
      "needs_background": "light"
     },
     "output_type": "display_data"
    }
   ],
   "source": [
    "f= plt.figure(figsize=(12,4))\n",
    "ax=f.add_subplot(121)\n",
    "sns.distplot(vector,bins=100,color='r',ax=ax)"
   ]
  },
  {
   "cell_type": "code",
   "execution_count": 18,
   "metadata": {},
   "outputs": [],
   "source": [
    "vector2 = np.array([1,1,1,1,1,5,5,5,5,5,5,5,5,5,5,4,3,2,4,5,6,7,8,9,8,5,4,2,3,4,5,3,2,3,4,5,4,3])"
   ]
  },
  {
   "cell_type": "code",
   "execution_count": 19,
   "metadata": {},
   "outputs": [
    {
     "data": {
      "text/plain": [
       "<matplotlib.axes._subplots.AxesSubplot at 0x7fca37be3128>"
      ]
     },
     "execution_count": 19,
     "metadata": {},
     "output_type": "execute_result"
    },
    {
     "data": {
      "image/png": "[encoded data removed]",
      "text/plain": [
       "<Figure size 864x288 with 1 Axes>"
      ]
     },
     "metadata": {
      "needs_background": "light"
     },
     "output_type": "display_data"
    }
   ],
   "source": [
    "f= plt.figure(figsize=(12,4))\n",
    "ax=f.add_subplot(121)\n",
    "sns.distplot(vector2,bins=10,color='r',ax=ax)"
   ]
  },
  {
   "cell_type": "code",
   "execution_count": 62,
   "metadata": {},
   "outputs": [
    {
     "data": {
      "image/png": "[encoded data removed]",
      "text/plain": [
       "<Figure size 576x360 with 1 Axes>"
      ]
     },
     "metadata": {
      "needs_background": "light"
     },
     "output_type": "display_data"
    }
   ],
   "source": [
    "x = ['a', 'a', 'a', 'b', 'b', 'b', 'c', 'c', 'c', 'd', 'd', 'd', 'd', 'd']\n",
    "n, bins, patches = plt.hist(x, facecolor='blue', alpha=0.5, density=True)\n",
    "plt.show()"
   ]
  },
  {
   "cell_type": "code",
   "execution_count": 34,
   "metadata": {},
   "outputs": [
    {
     "data": {
      "text/plain": [
       "24"
      ]
     },
     "execution_count": 34,
     "metadata": {},
     "output_type": "execute_result"
    }
   ],
   "source": [
    "len(x)"
   ]
  },
  {
   "cell_type": "code",
   "execution_count": 47,
   "metadata": {},
   "outputs": [],
   "source": [
    "np.random.seed(444)\n",
    "np.set_printoptions(precision=3)\n",
    "d = np.random.laplace(loc=15, scale=3, size=500)"
   ]
  },
  {
   "cell_type": "code",
   "execution_count": 48,
   "metadata": {},
   "outputs": [
    {
     "data": {
      "text/plain": [
       "array([18.406, 18.087, 16.004, 16.221,  7.358,  8.91 , 13.223, 13.627,\n",
       "       12.153, 12.207, 18.596, 18.463, 13.907, 16.959, 14.96 , 14.834,\n",
       "       10.981, 13.921, 20.416, 17.138, 10.003, 15.219, 16.634, 15.377,\n",
       "       14.845, 22.545, 17.53 , 17.022, 23.037, 16.109, 17.171, 12.461,\n",
       "       10.153,  8.558, 13.228, 22.171, 10.009, 16.795, 12.944, 20.376,\n",
       "       14.797, 18.605, 18.127, 21.614, 16.701, 15.233, 15.169, 14.294,\n",
       "        3.217, 15.505, 14.069, 16.6  ,  4.704, 13.911, 12.496, 12.331,\n",
       "       14.739,  2.11 , 14.239, 14.022, 14.998, 13.171, 16.802, 13.152,\n",
       "       15.2  , 15.572, 15.665, 17.112, 19.189, 21.613, 15.117,  4.22 ,\n",
       "       11.216, 17.633, 16.469,  9.446, 17.065, 11.472, 17.051, 27.057,\n",
       "       16.288, 14.291, 16.57 , 17.713, 14.9  , 14.271, 16.123, 14.319,\n",
       "       12.943, 16.274, 15.103, 12.05 , 18.089, 14.757, 14.275, 13.995,\n",
       "       20.226, 16.503, 10.041, 14.308, 16.358, 17.798, 34.551, 14.73 ,\n",
       "       13.662, 21.785, 11.816, 13.489,  9.095, 15.398, 23.086, 14.515,\n",
       "       11.911, 15.836, 15.247, 16.324, 15.747, 16.573, 13.991, 17.146,\n",
       "       18.888, 14.74 , 10.09 , 21.805, 20.832, 21.574, 14.855, 20.649,\n",
       "       11.52 , 14.364, 16.689, 12.215, 14.407, 11.971, 16.407, 14.054,\n",
       "       13.709, 18.424, 22.829, 13.667, 14.822, 13.026, 16.823, 14.378,\n",
       "       13.209, 14.539, 16.001,  2.684, 11.224, 20.757, 16.78 , 11.47 ,\n",
       "       25.786, 18.9  ,  5.354, 13.293, 16.899, 14.178, 17.822, 12.268,\n",
       "       16.946, 16.379, 12.688, 16.139, 16.444, 13.594,  6.427, 18.909,\n",
       "       15.426, 16.523, 10.633, 19.296, 13.733, 15.025, 13.638, 17.687,\n",
       "       10.28 , 18.048, 21.19 , 17.267,  3.976, 15.583, 18.419, 14.486,\n",
       "       11.779, 15.201, 15.483, 12.877, 16.163, 14.611, 16.201, 15.203,\n",
       "        9.696, 18.086, 16.545, 11.747, 14.879, 17.922, 15.68 , 20.754,\n",
       "       13.998, 14.862, 15.766, 18.402, 10.634, 14.748, 14.044, 15.002,\n",
       "       20.759, 15.065, 16.294, 16.394, 14.748,  9.193, 11.812, 11.367,\n",
       "       13.774, 19.597, 14.434, 19.204, 13.235, 16.414, 14.342, 14.768,\n",
       "       14.604, 14.958, 13.569, 20.845, 16.552, 16.597, 16.645, 16.276,\n",
       "       13.963, 15.125, 18.014, 10.011, 14.237, 11.55 , 15.201, 16.275,\n",
       "       14.705, 20.282, 13.954, 14.888, 15.427, 16.079, 17.334, 11.25 ,\n",
       "       11.992, 11.441, 13.481, 22.63 , 17.755, 14.366, 15.057, 17.061,\n",
       "       16.232, 13.845, 18.695, 16.07 , 14.401, 24.999,  4.24 , 16.695,\n",
       "        8.929, 13.397, 10.049, 13.729, 15.024, 14.448, 16.262, 13.833,\n",
       "        9.056, 13.542, 22.397, 16.179, 12.404, 21.244, 14.955, 25.677,\n",
       "       16.887, 15.11 , 14.897, 15.979, 15.403, 15.027, 12.425, 16.983,\n",
       "       13.137, 14.369, 17.393, 16.498, 13.494,  9.22 , 19.096, 13.205,\n",
       "       15.555, 14.559,  9.313, 14.511, 14.369, 12.33 , 16.409, 13.461,\n",
       "       13.498,  9.423,  8.423, 12.467, 15.383, 15.526, 16.338, 26.973,\n",
       "       15.399, 16.149, 13.   , 18.965, 15.124, 14.534, 18.91 , 19.362,\n",
       "       11.696, 11.701, 14.799, 14.792,  8.696, 15.065, 18.537,  5.782,\n",
       "       21.705, 20.637, 14.525, 23.407, 17.94 , 11.439, 25.89 , 15.222,\n",
       "       15.851, 14.169, 15.527, 13.599, 15.577, 15.875, 13.743, 16.431,\n",
       "       14.623, 18.061, 17.297, 18.631, 18.047, 14.349, 12.545, 10.707,\n",
       "       20.832, 15.597, 17.361, 14.568, 15.692, 13.454, 15.022, 39.749,\n",
       "       15.704, 14.184, 13.927, 14.036, 14.295,  8.952, 11.615, 12.342,\n",
       "       16.277, 13.613, 13.996, 15.122, 12.291, 12.904, 14.642,  8.009,\n",
       "       15.323,  8.762, 26.872, 15.523, 12.025, 13.785, 13.558, 14.1  ,\n",
       "        6.791, 15.917, 16.835, 13.483, 12.043, 18.695, 14.928, 10.468,\n",
       "       14.421, 16.543, 15.047, 20.015, 15.595, 17.82 , 14.855,  5.097,\n",
       "        6.724, 18.294, 12.233, 19.224,  4.729, 13.314, 12.567, 12.773,\n",
       "        9.888, 10.382, 13.245, 13.377, 15.557, 10.894, 17.665, 14.486,\n",
       "       13.486, 15.164, 11.857, 12.161, 16.66 , 16.576, 13.844, 17.535,\n",
       "       14.409, 15.005, 15.868, 15.238, 16.563, 15.618, 10.414, 21.99 ,\n",
       "       21.735, 28.723, 15.668, 15.827, 18.691, 14.534, 17.793, 14.978,\n",
       "       15.129, 16.186, 19.645, 14.379, 12.653, 15.71 , 12.887, 16.686,\n",
       "       17.926, 28.579, 14.588, 10.038,  9.251, 15.233,  8.313, 18.168,\n",
       "       14.793, 15.503, 18.796, 10.225, 16.382, 17.948, 16.796, 15.555,\n",
       "        8.385, 12.915, 11.466, 18.088, 20.933, 14.07 , 20.974, 14.788,\n",
       "       10.992, 18.869, 14.772, 20.08 , 17.369, 15.526, 14.024, 20.676,\n",
       "       14.89 , 14.715, 13.069, 14.681,  5.473, 11.679, 15.543, 15.684,\n",
       "       13.49 , 11.203, 19.222, 17.17 , 17.65 , 18.538, 15.296,  3.305,\n",
       "       17.974,  9.233, 10.483, 21.12 ])"
      ]
     },
     "execution_count": 48,
     "metadata": {},
     "output_type": "execute_result"
    }
   ],
   "source": [
    "d"
   ]
  },
  {
   "cell_type": "code",
   "execution_count": 64,
   "metadata": {},
   "outputs": [
    {
     "data": {
      "text/plain": [
       "(0.0, 80.0)"
      ]
     },
     "execution_count": 64,
     "metadata": {},
     "output_type": "execute_result"
    },
    {
     "data": {
      "image/png": "[encoded data removed]",
      "text/plain": [
       "<Figure size 576x360 with 1 Axes>"
      ]
     },
     "metadata": {
      "needs_background": "light"
     },
     "output_type": "display_data"
    }
   ],
   "source": [
    "# An \"interface\" to matplotlib.axes.Axes.hist() method\n",
    "n, bins, patches = plt.hist(x=d, bins='auto', color='#0504aa',\n",
    "                            alpha=0.7, rwidth=0.85)\n",
    "plt.grid(axis='y', alpha=0.75)\n",
    "plt.xlabel('Value')\n",
    "plt.ylabel('Frequency')\n",
    "plt.title('My Very Own Histogram')\n",
    "plt.text(23, 45, r'$\\mu=15, b=3$')\n",
    "maxfreq = n.max()\n",
    "# Set a clean upper y-axis limit.\n",
    "plt.ylim(ymax=np.ceil(maxfreq / 10) * 10 if maxfreq % 10 else maxfreq + 10)"
   ]
  },
  {
   "cell_type": "code",
   "execution_count": 51,
   "metadata": {},
   "outputs": [
    {
     "data": {
      "text/html": [
       "<div>\n",
       "<style scoped>\n",
       "    .dataframe tbody tr th:only-of-type {\n",
       "        vertical-align: middle;\n",
       "    }\n",
       "\n",
       "    .dataframe tbody tr th {\n",
       "        vertical-align: top;\n",
       "    }\n",
       "\n",
       "    .dataframe thead th {\n",
       "        text-align: right;\n",
       "    }\n",
       "</style>\n",
       "<table border=\"1\" class=\"dataframe\">\n",
       "  <thead>\n",
       "    <tr style=\"text-align: right;\">\n",
       "      <th></th>\n",
       "      <th>a</th>\n",
       "      <th>b</th>\n",
       "    </tr>\n",
       "  </thead>\n",
       "  <tbody>\n",
       "    <tr>\n",
       "      <th>min</th>\n",
       "      <td>-2.93</td>\n",
       "      <td>14.40</td>\n",
       "    </tr>\n",
       "    <tr>\n",
       "      <th>max</th>\n",
       "      <td>22.58</td>\n",
       "      <td>27.08</td>\n",
       "    </tr>\n",
       "    <tr>\n",
       "      <th>mean</th>\n",
       "      <td>9.58</td>\n",
       "      <td>19.93</td>\n",
       "    </tr>\n",
       "    <tr>\n",
       "      <th>std</th>\n",
       "      <td>4.18</td>\n",
       "      <td>1.92</td>\n",
       "    </tr>\n",
       "  </tbody>\n",
       "</table>\n",
       "</div>"
      ],
      "text/plain": [
       "          a      b\n",
       "min   -2.93  14.40\n",
       "max   22.58  27.08\n",
       "mean   9.58  19.93\n",
       "std    4.18   1.92"
      ]
     },
     "execution_count": 51,
     "metadata": {},
     "output_type": "execute_result"
    }
   ],
   "source": [
    "means = 10, 20\n",
    "stdevs = 4, 2\n",
    "dist = pd.DataFrame(\n",
    "     np.random.normal(loc=means, scale=stdevs, size=(1000, 2)),\n",
    "     columns=['a', 'b'])\n",
    "dist.agg(['min', 'max', 'mean', 'std']).round(decimals=2)"
   ]
  },
  {
   "cell_type": "code",
   "execution_count": 54,
   "metadata": {},
   "outputs": [
    {
     "data": {
      "image/png": "[encoded data removed]",
      "text/plain": [
       "<Figure size 576x360 with 1 Axes>"
      ]
     },
     "metadata": {
      "needs_background": "light"
     },
     "output_type": "display_data"
    }
   ],
   "source": [
    "fig, ax = plt.subplots()\n",
    "dist.plot.kde(ax=ax, legend=False, title='Histogram: A vs. B')\n",
    "dist.plot.hist(density=True,ax=ax)\n",
    "ax.set_ylabel('Probability')\n",
    "ax.grid(axis='y')\n",
    "ax.set_facecolor('#d8dcd6')"
   ]
  },
  {
   "cell_type": "code",
   "execution_count": 55,
   "metadata": {},
   "outputs": [
    {
     "data": {
      "text/html": [
       "<div>\n",
       "<style scoped>\n",
       "    .dataframe tbody tr th:only-of-type {\n",
       "        vertical-align: middle;\n",
       "    }\n",
       "\n",
       "    .dataframe tbody tr th {\n",
       "        vertical-align: top;\n",
       "    }\n",
       "\n",
       "    .dataframe thead th {\n",
       "        text-align: right;\n",
       "    }\n",
       "</style>\n",
       "<table border=\"1\" class=\"dataframe\">\n",
       "  <thead>\n",
       "    <tr style=\"text-align: right;\">\n",
       "      <th></th>\n",
       "      <th>a</th>\n",
       "      <th>b</th>\n",
       "    </tr>\n",
       "  </thead>\n",
       "  <tbody>\n",
       "    <tr>\n",
       "      <th>0</th>\n",
       "      <td>15.022608</td>\n",
       "      <td>18.015137</td>\n",
       "    </tr>\n",
       "    <tr>\n",
       "      <th>1</th>\n",
       "      <td>14.650250</td>\n",
       "      <td>17.644286</td>\n",
       "    </tr>\n",
       "    <tr>\n",
       "      <th>2</th>\n",
       "      <td>9.481371</td>\n",
       "      <td>17.910269</td>\n",
       "    </tr>\n",
       "    <tr>\n",
       "      <th>3</th>\n",
       "      <td>4.509705</td>\n",
       "      <td>17.979911</td>\n",
       "    </tr>\n",
       "    <tr>\n",
       "      <th>4</th>\n",
       "      <td>12.461580</td>\n",
       "      <td>20.571021</td>\n",
       "    </tr>\n",
       "    <tr>\n",
       "      <th>...</th>\n",
       "      <td>...</td>\n",
       "      <td>...</td>\n",
       "    </tr>\n",
       "    <tr>\n",
       "      <th>995</th>\n",
       "      <td>12.589423</td>\n",
       "      <td>22.352282</td>\n",
       "    </tr>\n",
       "    <tr>\n",
       "      <th>996</th>\n",
       "      <td>17.472519</td>\n",
       "      <td>17.135346</td>\n",
       "    </tr>\n",
       "    <tr>\n",
       "      <th>997</th>\n",
       "      <td>12.041051</td>\n",
       "      <td>20.942343</td>\n",
       "    </tr>\n",
       "    <tr>\n",
       "      <th>998</th>\n",
       "      <td>3.985356</td>\n",
       "      <td>21.213140</td>\n",
       "    </tr>\n",
       "    <tr>\n",
       "      <th>999</th>\n",
       "      <td>13.048399</td>\n",
       "      <td>21.745869</td>\n",
       "    </tr>\n",
       "  </tbody>\n",
       "</table>\n",
       "<p>1000 rows × 2 columns</p>\n",
       "</div>"
      ],
      "text/plain": [
       "             a          b\n",
       "0    15.022608  18.015137\n",
       "1    14.650250  17.644286\n",
       "2     9.481371  17.910269\n",
       "3     4.509705  17.979911\n",
       "4    12.461580  20.571021\n",
       "..         ...        ...\n",
       "995  12.589423  22.352282\n",
       "996  17.472519  17.135346\n",
       "997  12.041051  20.942343\n",
       "998   3.985356  21.213140\n",
       "999  13.048399  21.745869\n",
       "\n",
       "[1000 rows x 2 columns]"
      ]
     },
     "execution_count": 55,
     "metadata": {},
     "output_type": "execute_result"
    }
   ],
   "source": [
    "dist"
   ]
  },
  {
   "cell_type": "code",
   "execution_count": null,
   "metadata": {},
   "outputs": [],
   "source": []
  }
 ],
 "metadata": {
  "kernelspec": {
   "display_name": "Python 3",
   "language": "python",
   "name": "python3"
  },
  "language_info": {
   "codemirror_mode": {
    "name": "ipython",
    "version": 3
   },
   "file_extension": ".py",
   "mimetype": "text/x-python",
   "name": "python",
   "nbconvert_exporter": "python",
   "pygments_lexer": "ipython3",
   "version": "3.6.10"
  }
 },
 "nbformat": 4,
 "nbformat_minor": 4
}
